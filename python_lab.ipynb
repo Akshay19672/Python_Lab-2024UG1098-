{
  "nbformat": 4,
  "nbformat_minor": 0,
  "metadata": {
    "colab": {
      "provenance": [],
      "authorship_tag": "ABX9TyPpJ6TQb8NnNZhw9K5HVdoc",
      "include_colab_link": true
    },
    "kernelspec": {
      "name": "python3",
      "display_name": "Python 3"
    },
    "language_info": {
      "name": "python"
    }
  },
  "cells": [
    {
      "cell_type": "markdown",
      "metadata": {
        "id": "view-in-github",
        "colab_type": "text"
      },
      "source": [
        "<a href=\"https://colab.research.google.com/github/Akshay19672/Python_Lab-2024UG1098-/blob/main/python_lab.ipynb\" target=\"_parent\"><img src=\"https://colab.research.google.com/assets/colab-badge.svg\" alt=\"Open In Colab\"/></a>"
      ]
    },
    {
      "cell_type": "markdown",
      "source": [
        "# Name - Akshay Pratap Singh\n",
        "# Reg Number - 2024UG1098"
      ],
      "metadata": {
        "id": "YkmmRgNraHjj"
      }
    },
    {
      "cell_type": "markdown",
      "source": [
        "1 . Create a Python program that asks the user for their age.Implement conditional statements to check the following: If the user is below 18, print \"You are a minor.\" If the user is between 18 and 65, print \"You are an adult.\" If the user is above 65, print \"You are a senior.\" Add a check for invalid input (e.g., user enters a non-numeric value).\n"
      ],
      "metadata": {
        "id": "7G9pctGwZJ4W"
      }
    },
    {
      "cell_type": "code",
      "execution_count": 11,
      "metadata": {
        "colab": {
          "base_uri": "https://localhost:8080/"
        },
        "id": "rzQ5MIHlFD8K",
        "outputId": "82e186cf-f6e3-44f4-dc6d-a32fc3482b54"
      },
      "outputs": [
        {
          "output_type": "stream",
          "name": "stdout",
          "text": [
            " Enter your age :abcd\n",
            "Invalid format of age\n"
          ]
        }
      ],
      "source": [
        "age = input(\" Enter your age :\")\n",
        "\n",
        "if age.isdigit():\n",
        "\n",
        "  new_age=int(age)\n",
        "\n",
        "  if new_age<18:\n",
        "    print(\"You are a minor\")\n",
        "\n",
        "  elif new_age>=18 and new_age<65:\n",
        "    print(\"You are a adult\")\n",
        "\n",
        "  else:\n",
        "    print(\"You are a senior citizen\")\n",
        "\n",
        "else:\n",
        "  print(\"Invalid format of age\")"
      ]
    },
    {
      "cell_type": "markdown",
      "source": [
        "2 . Write a Python program that generates a multiplication table for numbers from 1 to 12. Use nested loops to display the table in a well-formatted way. Print both the rows and columns of the table with their appropriate labels.\n"
      ],
      "metadata": {
        "id": "_6nPitpVZrcU"
      }
    },
    {
      "cell_type": "code",
      "source": [
        "for i in range(1,13,1):\n",
        "\n",
        "  print(\"\\n\")\n",
        "\n",
        "\n",
        "\n",
        "  print(\"The table of : \", i)\n",
        "  print(\"\\n\")\n",
        "  for j in range(1,11,1):\n",
        "\n",
        "    print(i,\"*\",j,\"=\",i*j)\n",
        ""
      ],
      "metadata": {
        "colab": {
          "base_uri": "https://localhost:8080/"
        },
        "id": "Ubc52tJRGSLL",
        "outputId": "da9868a5-0aa9-468b-94f2-34e19752d399"
      },
      "execution_count": 21,
      "outputs": [
        {
          "output_type": "stream",
          "name": "stdout",
          "text": [
            "\n",
            "\n",
            "The table of :  1\n",
            "\n",
            "\n",
            "1 * 1 = 1\n",
            "1 * 2 = 2\n",
            "1 * 3 = 3\n",
            "1 * 4 = 4\n",
            "1 * 5 = 5\n",
            "1 * 6 = 6\n",
            "1 * 7 = 7\n",
            "1 * 8 = 8\n",
            "1 * 9 = 9\n",
            "1 * 10 = 10\n",
            "\n",
            "\n",
            "The table of :  2\n",
            "\n",
            "\n",
            "2 * 1 = 2\n",
            "2 * 2 = 4\n",
            "2 * 3 = 6\n",
            "2 * 4 = 8\n",
            "2 * 5 = 10\n",
            "2 * 6 = 12\n",
            "2 * 7 = 14\n",
            "2 * 8 = 16\n",
            "2 * 9 = 18\n",
            "2 * 10 = 20\n",
            "\n",
            "\n",
            "The table of :  3\n",
            "\n",
            "\n",
            "3 * 1 = 3\n",
            "3 * 2 = 6\n",
            "3 * 3 = 9\n",
            "3 * 4 = 12\n",
            "3 * 5 = 15\n",
            "3 * 6 = 18\n",
            "3 * 7 = 21\n",
            "3 * 8 = 24\n",
            "3 * 9 = 27\n",
            "3 * 10 = 30\n",
            "\n",
            "\n",
            "The table of :  4\n",
            "\n",
            "\n",
            "4 * 1 = 4\n",
            "4 * 2 = 8\n",
            "4 * 3 = 12\n",
            "4 * 4 = 16\n",
            "4 * 5 = 20\n",
            "4 * 6 = 24\n",
            "4 * 7 = 28\n",
            "4 * 8 = 32\n",
            "4 * 9 = 36\n",
            "4 * 10 = 40\n",
            "\n",
            "\n",
            "The table of :  5\n",
            "\n",
            "\n",
            "5 * 1 = 5\n",
            "5 * 2 = 10\n",
            "5 * 3 = 15\n",
            "5 * 4 = 20\n",
            "5 * 5 = 25\n",
            "5 * 6 = 30\n",
            "5 * 7 = 35\n",
            "5 * 8 = 40\n",
            "5 * 9 = 45\n",
            "5 * 10 = 50\n",
            "\n",
            "\n",
            "The table of :  6\n",
            "\n",
            "\n",
            "6 * 1 = 6\n",
            "6 * 2 = 12\n",
            "6 * 3 = 18\n",
            "6 * 4 = 24\n",
            "6 * 5 = 30\n",
            "6 * 6 = 36\n",
            "6 * 7 = 42\n",
            "6 * 8 = 48\n",
            "6 * 9 = 54\n",
            "6 * 10 = 60\n",
            "\n",
            "\n",
            "The table of :  7\n",
            "\n",
            "\n",
            "7 * 1 = 7\n",
            "7 * 2 = 14\n",
            "7 * 3 = 21\n",
            "7 * 4 = 28\n",
            "7 * 5 = 35\n",
            "7 * 6 = 42\n",
            "7 * 7 = 49\n",
            "7 * 8 = 56\n",
            "7 * 9 = 63\n",
            "7 * 10 = 70\n",
            "\n",
            "\n",
            "The table of :  8\n",
            "\n",
            "\n",
            "8 * 1 = 8\n",
            "8 * 2 = 16\n",
            "8 * 3 = 24\n",
            "8 * 4 = 32\n",
            "8 * 5 = 40\n",
            "8 * 6 = 48\n",
            "8 * 7 = 56\n",
            "8 * 8 = 64\n",
            "8 * 9 = 72\n",
            "8 * 10 = 80\n",
            "\n",
            "\n",
            "The table of :  9\n",
            "\n",
            "\n",
            "9 * 1 = 9\n",
            "9 * 2 = 18\n",
            "9 * 3 = 27\n",
            "9 * 4 = 36\n",
            "9 * 5 = 45\n",
            "9 * 6 = 54\n",
            "9 * 7 = 63\n",
            "9 * 8 = 72\n",
            "9 * 9 = 81\n",
            "9 * 10 = 90\n",
            "\n",
            "\n",
            "The table of :  10\n",
            "\n",
            "\n",
            "10 * 1 = 10\n",
            "10 * 2 = 20\n",
            "10 * 3 = 30\n",
            "10 * 4 = 40\n",
            "10 * 5 = 50\n",
            "10 * 6 = 60\n",
            "10 * 7 = 70\n",
            "10 * 8 = 80\n",
            "10 * 9 = 90\n",
            "10 * 10 = 100\n",
            "\n",
            "\n",
            "The table of :  11\n",
            "\n",
            "\n",
            "11 * 1 = 11\n",
            "11 * 2 = 22\n",
            "11 * 3 = 33\n",
            "11 * 4 = 44\n",
            "11 * 5 = 55\n",
            "11 * 6 = 66\n",
            "11 * 7 = 77\n",
            "11 * 8 = 88\n",
            "11 * 9 = 99\n",
            "11 * 10 = 110\n",
            "\n",
            "\n",
            "The table of :  12\n",
            "\n",
            "\n",
            "12 * 1 = 12\n",
            "12 * 2 = 24\n",
            "12 * 3 = 36\n",
            "12 * 4 = 48\n",
            "12 * 5 = 60\n",
            "12 * 6 = 72\n",
            "12 * 7 = 84\n",
            "12 * 8 = 96\n",
            "12 * 9 = 108\n",
            "12 * 10 = 120\n"
          ]
        }
      ]
    },
    {
      "cell_type": "markdown",
      "source": [
        "3 . Write a program to validate a password based on the following criteria:\n",
        "Minimum 8 characters\n",
        "At least one uppercase letter\n",
        "At least one lowercase letter\n",
        "At least one number\n",
        "At least one special character (e.g., @, #, !, etc.)"
      ],
      "metadata": {
        "id": "2ng5x7RPZ6S7"
      }
    },
    {
      "cell_type": "code",
      "source": [
        "print(\"Rules of making  password : \")\n",
        "print(\"\"\"\n",
        "1.Minimum 8 characters\n",
        "2.At least one uppercase letter\n",
        "3.At least one lowercase letter\n",
        "4.At least one special character (e.g., @, #, !, etc.)\n",
        "5.At least one number \"\"\")\n",
        "\n",
        "count_password = 0\n",
        "while count_password<1:\n",
        "  password = input(\"Enter your password : \")\n",
        "  count_digit = 0\n",
        "  count_upper = 0\n",
        "  count_lower = 0\n",
        "  count_scharacter = 0\n",
        "\n",
        "\n",
        "  if len(password)==8:\n",
        "\n",
        "    for i in password:\n",
        "\n",
        "      if ord(i)>64 and ord(i)<91:\n",
        "        count_upper +=1\n",
        "\n",
        "      elif ord(i)>96 and ord(i)<123:\n",
        "        count_lower +=1\n",
        "\n",
        "      elif (ord(i)>32 and ord(i)<48) or (ord(i)>57 and ord(i)<65) or (ord(i)>90 and ord(i)<97) or (ord(i)>122 and ord(i)<127):\n",
        "        count_scharacter+=1\n",
        "\n",
        "      elif i.isdigit():\n",
        "        count_digit +=1\n",
        "\n",
        "    if count_upper>0 and count_lower>0 and count_scharacter>0 and count_digit>0:\n",
        "      print(\"Valid password\")\n",
        "      count_password+=1\n",
        "      break\n",
        "\n",
        "\n",
        "    else:\n",
        "      print(\"Password invalid!!\")\n",
        "\n",
        "  else:\n",
        "    print(\"Password invalid!! length!=8\")"
      ],
      "metadata": {
        "colab": {
          "base_uri": "https://localhost:8080/"
        },
        "id": "oNjetWNlTxzh",
        "outputId": "0a9acb9c-c640-4505-c71c-d09e22d8bbfe"
      },
      "execution_count": 1,
      "outputs": [
        {
          "output_type": "stream",
          "name": "stdout",
          "text": [
            "Rules of making  password : \n",
            "\n",
            "1.Minimum 8 characters\n",
            "2.At least one uppercase letter\n",
            "3.At least one lowercase letter\n",
            "4.At least one special character (e.g., @, #, !, etc.)\n",
            "5.At least one number \n",
            "Enter your password : akshay\n",
            "Password invalid!! length!=8\n",
            "Enter your password : akshay30\n",
            "Password invalid!!\n",
            "Enter your password : Aksha30@\n",
            "Valid password\n"
          ]
        }
      ]
    },
    {
      "cell_type": "markdown",
      "source": [
        "5 . Create a list of sales data for the past 12 months (e.g., sales figures in thousands). Calculate the total sales, average sales, and the month with the highest sales using loops. Use matplotlib to plot the monthly sales and highlight the month with the highest sales.\n",
        "Example: # Sales data (in thousands)\n",
        "sales_data = [25, 32, 29, 35, 41, 40, 45, 38, 50, 55, 60, 70]"
      ],
      "metadata": {
        "id": "rUyPsAWmZ9W6"
      }
    },
    {
      "cell_type": "code",
      "source": [
        "import matplotlib.pyplot as plt\n",
        "\n",
        "sales_data = list(map(int,input(\"Enter the sales data separated by comma(,) \").split(\",\")))\n",
        "maximium=0\n",
        "total_sales=0\n",
        "total_months=[]\n",
        "\n",
        "for i in range(1,len(sales_data)+1,1):\n",
        "  total_months.append(i)\n",
        "\n",
        "for i in sales_data:\n",
        "  total_sales+=i\n",
        "\n",
        "average=total_sales/len(sales_data)\n",
        "\n",
        "maximum=max(sales_data)\n",
        "\n",
        "\n",
        "\n",
        "print(\"Total Sales : \", total_sales)\n",
        "print(\"Average Sales: \", average)\n",
        "print(\"Maximum sale in a month\",maximum)\n",
        "\n",
        "for j in range(0,len(sales_data)):\n",
        "  if sales_data[j]==maximum:\n",
        "    print(\"The month with maximum sales is :\",j+1)\n",
        "\n",
        "\n",
        "\n",
        "highlight= maximum\n",
        "\n",
        "colors=[\"red\" if label==highlight else \"green\" for label in sales_data ]\n",
        "plt.bar(total_months,sales_data,color=colors)\n",
        "plt.show()"
      ],
      "metadata": {
        "colab": {
          "base_uri": "https://localhost:8080/",
          "height": 517
        },
        "id": "viqYPLOuO4E3",
        "outputId": "35e9cdc0-9d03-4b67-aa4a-23350922b703"
      },
      "execution_count": 20,
      "outputs": [
        {
          "output_type": "stream",
          "name": "stdout",
          "text": [
            "Enter the sales data separated by comma(,) 25, 32, 29, 35, 41, 40, 45, 38, 50, 55, 60, 70\n",
            "Total Sales :  520\n",
            "Average Sales:  43.333333333333336\n",
            "Maximum sale in a month 70\n",
            "The month with maximum sales is : 12\n"
          ]
        },
        {
          "output_type": "display_data",
          "data": {
            "text/plain": [
              "<Figure size 640x480 with 1 Axes>"
            ],
            "image/png": "[encoded data removed]"
          },
          "metadata": {}
        }
      ]
    },
    {
      "cell_type": "code",
      "source": [],
      "metadata": {
        "id": "kgZSbYSibJ7q"
      },
      "execution_count": null,
      "outputs": []
    }
  ]
}